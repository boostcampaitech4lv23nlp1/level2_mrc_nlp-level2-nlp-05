{
 "cells": [
  {
   "cell_type": "code",
   "execution_count": 2,
   "metadata": {},
   "outputs": [
    {
     "name": "stderr",
     "output_type": "stream",
     "text": [
      "/opt/conda/lib/python3.8/site-packages/tqdm/auto.py:22: TqdmWarning: IProgress not found. Please update jupyter and ipywidgets. See https://ipywidgets.readthedocs.io/en/stable/user_install.html\n",
      "  from .autonotebook import tqdm as notebook_tqdm\n"
     ]
    }
   ],
   "source": [
    "from datasets import DatasetDict, load_from_disk, load_metric\n",
    "from transformers import (\n",
    "    AutoConfig,\n",
    "    AutoModelForQuestionAnswering,\n",
    "    AutoTokenizer,\n",
    "    DataCollatorWithPadding,\n",
    "    EvalPrediction,\n",
    "    HfArgumentParser,\n",
    "    TrainingArguments,\n",
    "    set_seed,\n",
    ")\n",
    "import pandas as pd\n",
    "import numpy as np  #2차원, 3차원 배열 표현이 쉽다.\n",
    "import matplotlib as mpl\n",
    "import matplotlib.pyplot as plt\n",
    "from collections import Counter\n",
    "import json"
   ]
  },
  {
   "cell_type": "markdown",
   "metadata": {},
   "source": [
    "# 데이터셋 가져오기"
   ]
  },
  {
   "cell_type": "code",
   "execution_count": 7,
   "metadata": {},
   "outputs": [],
   "source": [
    "datasets = load_from_disk('../../dataset/train_dataset')\n",
    "datasets_test = load_from_disk('../../dataset/test_dataset')"
   ]
  },
  {
   "cell_type": "code",
   "execution_count": 8,
   "metadata": {},
   "outputs": [],
   "source": [
    "train_df = datasets['train'].to_pandas()\n",
    "vaild_df = datasets['validation'].to_pandas()\n",
    "test_df = datasets_test['validation'].to_pandas()"
   ]
  },
  {
   "cell_type": "markdown",
   "metadata": {},
   "source": [
    "# 커리큘럼 러닝"
   ]
  },
  {
   "cell_type": "markdown",
   "metadata": {},
   "source": [
    "### 난이도 하 데이터 가져오기\n",
    "전체 train_dataset에 대해 inference"
   ]
  },
  {
   "cell_type": "code",
   "execution_count": 10,
   "metadata": {},
   "outputs": [],
   "source": [
    "# inference 결과\n",
    "with open('../../models/05-03-35_train)pred/nbest_predictions.json') as f:\n",
    "    js = json.loads(f.read())"
   ]
  },
  {
   "cell_type": "code",
   "execution_count": 11,
   "metadata": {},
   "outputs": [],
   "source": [
    "#prob 가장 높은 값만 가져오기\n",
    "train_answers={}\n",
    "for k,v in js.items():\n",
    "    max_prob_answer = v[0]\n",
    "    for answer in v:\n",
    "        if max_prob_answer['probability'] < answer['probability']:\n",
    "            max_prob_answer = answer\n",
    "    train_answers[k] = answer\n"
   ]
  },
  {
   "cell_type": "code",
   "execution_count": 12,
   "metadata": {},
   "outputs": [
    {
     "data": {
      "text/plain": [
       "3952"
      ]
     },
     "execution_count": 12,
     "metadata": {},
     "output_type": "execute_result"
    }
   ],
   "source": [
    "len(train_answers)"
   ]
  },
  {
   "cell_type": "code",
   "execution_count": 13,
   "metadata": {},
   "outputs": [],
   "source": [
    "q_ids = []    #dataset의 id\n",
    "answer_start_idx = []    #실제 정답 시작 index\n",
    "answer_end_idx = []      #실제 정답 끝 index\n",
    "pred_start_idx = []      #inference 정답 시작 index\n",
    "pred_end_idx = []        #inference 정답 끝 index\n",
    "for k,v in train_answers.items():\n",
    "    q_ids.append(k)\n",
    "    answer_start_idx.append(v['answer_offsets'][0])\n",
    "    answer_end_idx.append(v['answer_offsets'][1])\n",
    "    pred_start_idx.append(v['offsets'][0])\n",
    "    pred_end_idx.append(v['offsets'][1])"
   ]
  },
  {
   "cell_type": "code",
   "execution_count": 14,
   "metadata": {},
   "outputs": [
    {
     "name": "stdout",
     "output_type": "stream",
     "text": [
      "3952\n"
     ]
    }
   ],
   "source": [
    "#L2 loss 계산\n",
    "import math\n",
    "def metrics(asi,psi,aei,pei):\n",
    "    return math.sqrt(math.pow(asi-psi,2)+math.pow(aei-pei,2))\n",
    "loss = []\n",
    "for i, ids in enumerate(q_ids):\n",
    "    loss.append(metrics(answer_start_idx[i], pred_start_idx[i],answer_end_idx[i],pred_end_idx[i]))\n",
    "print(len(loss))\n"
   ]
  },
  {
   "cell_type": "code",
   "execution_count": 35,
   "metadata": {},
   "outputs": [],
   "source": [
    "# 데이터가 1/3을 유지하게 하위 1/3을 저장\n",
    "bi_loss=[1 if i < 8 else 0 for i in loss]\n",
    "train_ids = [q_ids[i] for i in range(len(loss)) if bi_loss[i] == 1]"
   ]
  },
  {
   "cell_type": "code",
   "execution_count": 36,
   "metadata": {},
   "outputs": [
    {
     "data": {
      "text/plain": [
       "1291"
      ]
     },
     "execution_count": 36,
     "metadata": {},
     "output_type": "execute_result"
    }
   ],
   "source": [
    "len(train_ids)"
   ]
  },
  {
   "cell_type": "code",
   "execution_count": 37,
   "metadata": {},
   "outputs": [],
   "source": [
    "train_ids= {q_ids[i] : bi_loss[i] for i in range(len(loss))}"
   ]
  },
  {
   "cell_type": "code",
   "execution_count": 14,
   "metadata": {},
   "outputs": [],
   "source": [
    "with open('Curriculum_Learning.json', \"w\", encoding=\"utf-8\") as writer:\n",
    "    writer.write(\n",
    "        json.dumps(train_ids, indent=4, ensure_ascii=False) + \"\\n\"\n",
    "    )"
   ]
  },
  {
   "cell_type": "code",
   "execution_count": 15,
   "metadata": {},
   "outputs": [],
   "source": [
    "with open('Curriculum_Learning.json') as f:\n",
    "    js3 = json.loads(f.read())"
   ]
  },
  {
   "cell_type": "markdown",
   "metadata": {},
   "source": [
    "### 난이도 중 계산\n",
    "난이도 하와 같은 계산을 반복"
   ]
  },
  {
   "cell_type": "code",
   "execution_count": 39,
   "metadata": {},
   "outputs": [],
   "source": [
    "# inference 결과2\n",
    "with open('../../models/05-05-58_1차 ㅜㅎ/nbest_predictions.json') as f:\n",
    "    js2 = json.loads(f.read())\n",
    "    \n",
    "#prob 가장 높은 값만 가져오기\n",
    "train_answers2={}\n",
    "for k,v in js2.items():\n",
    "    max_prob_answer = v[0]\n",
    "    for answer in v:\n",
    "        if max_prob_answer['probability'] < answer['probability']:\n",
    "            max_prob_answer = answer\n",
    "    train_answers2[k] = answer\n",
    "\n",
    "q_ids2 = []\n",
    "answer_start_idx2 = []\n",
    "answer_end_idx2 = []\n",
    "pred_start_idx2 = []\n",
    "pred_end_idx2 = []\n",
    "for k,v in train_answers2.items():\n",
    "    q_ids2.append(k)\n",
    "    answer_start_idx2.append(v['answer_offsets'][0])\n",
    "    answer_end_idx2.append(v['answer_offsets'][1])\n",
    "    pred_start_idx2.append(v['offsets'][0])\n",
    "    pred_end_idx2.append(v['offsets'][1])\n",
    "\n",
    "loss2 = []\n",
    "for i, ids in enumerate(q_ids2):\n",
    "    loss2.append(metrics(answer_start_idx2[i], pred_start_idx2[i],answer_end_idx2[i],pred_end_idx2[i]))\n",
    "    \n"
   ]
  },
  {
   "cell_type": "code",
   "execution_count": 46,
   "metadata": {},
   "outputs": [
    {
     "name": "stdout",
     "output_type": "stream",
     "text": [
      "1330\n"
     ]
    },
    {
     "data": {
      "text/plain": [
       "3952"
      ]
     },
     "execution_count": 46,
     "metadata": {},
     "output_type": "execute_result"
    }
   ],
   "source": [
    "bi_loss2=[1 if i < 25 else 0 for i in loss2]\n",
    "for i in range(len(bi_loss2)):\n",
    "    if bi_loss[i]==1:\n",
    "        bi_loss2[i]=0\n",
    "train_ids2_list = [q_ids2[i] for i in range(len(loss2)) if bi_loss2[i] == 1]\n",
    "train_ids2= {q_ids2[i] : bi_loss2[i] for i in range(len(loss2))}\n",
    "print(len(train_ids2_list))\n",
    "len(train_ids2)"
   ]
  },
  {
   "cell_type": "code",
   "execution_count": 19,
   "metadata": {},
   "outputs": [],
   "source": [
    "with open('Curriculum_Learning2.json', \"w\", encoding=\"utf-8\") as writer:\n",
    "    writer.write(\n",
    "        json.dumps(train_ids2, indent=4, ensure_ascii=False) + \"\\n\"\n",
    "    )"
   ]
  },
  {
   "cell_type": "markdown",
   "metadata": {},
   "source": [
    "### 난이도 상 계산\n",
    "난이도 하와 중을 제외하면 나머지가 난이도 상"
   ]
  },
  {
   "cell_type": "code",
   "execution_count": 49,
   "metadata": {},
   "outputs": [
    {
     "name": "stdout",
     "output_type": "stream",
     "text": [
      "1331\n"
     ]
    }
   ],
   "source": [
    "bi_loss3 = [1 for i in range(len(loss2))]\n",
    "for i in range(len(bi_loss2)):\n",
    "    if bi_loss[i]==1:\n",
    "        bi_loss3[i]=0\n",
    "for i in range(len(bi_loss2)):\n",
    "    if bi_loss2[i]==1:\n",
    "        bi_loss3[i]=0     \n",
    "print(sum(bi_loss3))"
   ]
  },
  {
   "cell_type": "code",
   "execution_count": 21,
   "metadata": {},
   "outputs": [],
   "source": [
    "train_ids3_list = [q_ids2[i] for i in range(len(loss2)) if bi_loss3[i] == 1]\n",
    "train_ids3= {q_ids2[i] : bi_loss3[i] for i in range(len(loss2))}"
   ]
  },
  {
   "cell_type": "code",
   "execution_count": 22,
   "metadata": {},
   "outputs": [],
   "source": [
    "with open('Curriculum_Learning3.json', \"w\", encoding=\"utf-8\") as writer:\n",
    "    writer.write(\n",
    "        json.dumps(train_ids2, indent=4, ensure_ascii=False) + \"\\n\"\n",
    "    )"
   ]
  }
 ],
 "metadata": {
  "kernelspec": {
   "display_name": "Python 3 (ipykernel)",
   "language": "python",
   "name": "python3"
  },
  "language_info": {
   "codemirror_mode": {
    "name": "ipython",
    "version": 3
   },
   "file_extension": ".py",
   "mimetype": "text/x-python",
   "name": "python",
   "nbconvert_exporter": "python",
   "pygments_lexer": "ipython3",
   "version": "3.8.5"
  }
 },
 "nbformat": 4,
 "nbformat_minor": 4
}
